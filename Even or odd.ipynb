{
 "cells": [
  {
   "cell_type": "code",
   "execution_count": null,
   "id": "0fd1cb84",
   "metadata": {},
   "outputs": [],
   "source": [
    "#Get a number at the entrance\n",
    "#even : when the number is even or\n",
    "#odd : when the number is odd.\n",
    "\n",
    "x = int(input('Enter a number))\n",
    "\n",
    "if x % 2 == 0:\n",
    "     print('even')\n",
    "else:\n",
    "     print('odd')"
   ]
  }
 ],
 "metadata": {
  "kernelspec": {
   "display_name": "Python 3 (ipykernel)",
   "language": "python",
   "name": "python3"
  },
  "language_info": {
   "codemirror_mode": {
    "name": "ipython",
    "version": 3
   },
   "file_extension": ".py",
   "mimetype": "text/x-python",
   "name": "python",
   "nbconvert_exporter": "python",
   "pygments_lexer": "ipython3",
   "version": "3.9.7"
  }
 },
 "nbformat": 4,
 "nbformat_minor": 5
}
