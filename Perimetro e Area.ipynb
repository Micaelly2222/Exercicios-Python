{
 "cells": [
  {
   "cell_type": "code",
   "execution_count": 3,
   "id": "7c68abb5",
   "metadata": {},
   "outputs": [
    {
     "name": "stdout",
     "output_type": "stream",
     "text": [
      "Enter the side of the square: ? 5\n",
      "perimeter: 20 -  area: 25\n"
     ]
    }
   ],
   "source": [
    "# Write a Python program that receives (data input) the value corresponding to the side of a square, calculates and prints (data output) its perimeter and area.\n",
    "\n",
    "side=a = int(input(\"Enter the side of the square: ? \"))\n",
    "\n",
    "perimeter  = side *4\n",
    "\n",
    "area = side * side\n",
    "\n",
    "print(\"perimeter:\", perimeter, \"-\", \" area:\",\n",
    "      area)"
   ]
  }
 ],
 "metadata": {
  "kernelspec": {
   "display_name": "Python 3 (ipykernel)",
   "language": "python",
   "name": "python3"
  },
  "language_info": {
   "codemirror_mode": {
    "name": "ipython",
    "version": 3
   },
   "file_extension": ".py",
   "mimetype": "text/x-python",
   "name": "python",
   "nbconvert_exporter": "python",
   "pygments_lexer": "ipython3",
   "version": "3.9.7"
  }
 },
 "nbformat": 4,
 "nbformat_minor": 5
}
