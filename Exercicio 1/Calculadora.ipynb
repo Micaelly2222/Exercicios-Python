{
 "cells": [
  {
   "cell_type": "code",
   "execution_count": null,
   "id": "6844db71",
   "metadata": {},
   "outputs": [],
   "source": [
    "#Calculator- Python\n",
    "\n",
    "print(\"\\n******************* Python Calculator *******************\")\n",
    "\n",
    "def add(x, y):\n",
    "\treturn x + y\n",
    "\n",
    "def subtract(x, y):\n",
    "\treturn x - y\n",
    "\n",
    "def multiply(x, y):\n",
    "\treturn x * y\n",
    "\n",
    "def divide(x, y):\n",
    "\treturn x / y\n",
    "\n",
    "print(\"\\nSelect the desired operation number: \\n\")\n",
    "print(\"1 - Add\")\n",
    "print(\"2 - Subtract\")\n",
    "print(\"3 - Multiply\")\n",
    "print(\"4 - Divide\")\n",
    "\n",
    "escolha = input(\"\\nEnter your option (1/2/3/4): \")\n",
    "\n",
    "num1 = int(input(\"\\nEnter the first number: \"))\n",
    "num2 = int(input(\"\\nEnter the second number: \"))\n",
    "\n",
    "if escolha == '1':\n",
    "\tprint(\"\\n\")\n",
    "\tprint(num1, \"+\", num2, \"=\", add(num1, num2))\n",
    "\tprint(\"\\n\")\n",
    "\n",
    "elif escolha == '2':\n",
    "\tprint(\"\\n\")\n",
    "\tprint(num1, \"-\", num2, \"=\", subtract(num1, num2))\n",
    "\tprint(\"\\n\")\n",
    "\n",
    "elif escolha == '3':\n",
    "\tprint(\"\\n\")\n",
    "\tprint(num1, \"*\", num2, \"=\", multiply(num1, num2))\n",
    "\tprint(\"\\n\")\n",
    "\n",
    "elif escolha == '4':\n",
    "\tprint(\"\\n\")\n",
    "\tprint(num1, \"/\", num2, \"=\", divide(num1, num2))\n",
    "\tprint(\"\\n\")\n",
    "\n",
    "else:\n",
    "\tprint(\"\\nInvalid Option!\")"
   ]
  }
 ],
 "metadata": {
  "kernelspec": {
   "display_name": "Python 3 (ipykernel)",
   "language": "python",
   "name": "python3"
  },
  "language_info": {
   "codemirror_mode": {
    "name": "ipython",
    "version": 3
   },
   "file_extension": ".py",
   "mimetype": "text/x-python",
   "name": "python",
   "nbconvert_exporter": "python",
   "pygments_lexer": "ipython3",
   "version": "3.9.7"
  }
 },
 "nbformat": 4,
 "nbformat_minor": 5
}
